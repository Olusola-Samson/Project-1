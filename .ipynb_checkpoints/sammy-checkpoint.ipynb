{
 "cells": [
  {
   "cell_type": "code",
   "execution_count": 3,
   "id": "118d43d7",
   "metadata": {},
   "outputs": [
    {
     "name": "stdout",
     "output_type": "stream",
     "text": [
      "2015g]\n",
      "gold\n"
     ]
    }
   ],
   "source": [
    "x = input(2015) \n",
    "if x:\n",
    "    print('gold')"
   ]
  },
  {
   "cell_type": "code",
   "execution_count": 10,
   "id": "41fd0252",
   "metadata": {},
   "outputs": [
    {
     "name": "stdout",
     "output_type": "stream",
     "text": [
      "[89, 9, 8, 8, 7, 5, 4]\n"
     ]
    }
   ],
   "source": [
    "\n",
    "numbers.sort()\n",
    "numbers.reverse()\n",
    "print(numbers)"
   ]
  },
  {
   "cell_type": "raw",
   "id": "9697d459",
   "metadata": {},
   "source": [
    "this is how you write a list"
   ]
  },
  {
   "cell_type": "code",
   "execution_count": 14,
   "id": "1159881f",
   "metadata": {},
   "outputs": [
    {
     "name": "stdout",
     "output_type": "stream",
     "text": [
      "True\n"
     ]
    }
   ],
   "source": [
    "numbers = [\"gold\",'silver', 'bronze', 'diamond']\n",
    "al = 'allowancw'\n",
    "print('a' in al)"
   ]
  },
  {
   "cell_type": "code",
   "execution_count": 15,
   "id": "168294ac",
   "metadata": {},
   "outputs": [
    {
     "name": "stdout",
     "output_type": "stream",
     "text": [
      "[8, 4, 5, 7, 89, 9]\n"
     ]
    }
   ],
   "source": [
    "numbers = [8,4,5,7,89,8,9]\n",
    "uniques = []\n",
    "for number in numbers:\n",
    "    if number not in uniques:\n",
    "        uniques.append(number)\n",
    "print(uniques) "
   ]
  },
  {
   "cell_type": "code",
   "execution_count": 5,
   "id": "88ae7dae",
   "metadata": {},
   "outputs": [
    {
     "name": "stdout",
     "output_type": "stream",
     "text": [
      "5\n"
     ]
    }
   ],
   "source": [
    "numbers = [8,4,5]\n",
    "x,y,z = numbers\n",
    "print(z)"
   ]
  },
  {
   "cell_type": "markdown",
   "id": "eeb19266",
   "metadata": {},
   "source": [
    "Dictionary"
   ]
  },
  {
   "cell_type": "code",
   "execution_count": 7,
   "id": "a839353f",
   "metadata": {},
   "outputs": [
    {
     "name": "stdout",
     "output_type": "stream",
     "text": [
      "John smith\n"
     ]
    }
   ],
   "source": [
    "customer = {\n",
    "    'name': 'John smith',\n",
    "    'age' : 30,\n",
    "    'is_verified': True\n",
    "}\n",
    "print(customer.get('name'))"
   ]
  },
  {
   "cell_type": "code",
   "execution_count": 17,
   "id": "24d9547d",
   "metadata": {},
   "outputs": [
    {
     "name": "stdout",
     "output_type": "stream",
     "text": [
      "phone: 07032684096\n",
      "j g j c b f h d j i f \n"
     ]
    }
   ],
   "source": [
    "phone = input('phone: ')\n",
    "number = {'1' : 'a','2' : 'b','3': 'c','4' : 'd','5' : 'e','6' : 'f','7' : 'g','8' : 'h','9' : 'i','0' : 'j'}\n",
    "output = \"\"\n",
    "for item in phone:\n",
    "    output += number.get(item) + \" \"\n",
    "print(output)    \n",
    "    "
   ]
  },
  {
   "cell_type": "markdown",
   "id": "ef07fb05",
   "metadata": {},
   "source": [
    "when you split an input and you map it to a dictionary to change it's original spelling"
   ]
  },
  {
   "cell_type": "code",
   "execution_count": 25,
   "id": "0160b7c2",
   "metadata": {},
   "outputs": [
    {
     "name": "stdout",
     "output_type": "stream",
     "text": [
      "How are you felling today pretty happy\n",
      "pretty >>> \n"
     ]
    }
   ],
   "source": [
    "message = input('How are you felling today: ')\n",
    "emojis = {\n",
    "    'good' : '<>>>',\n",
    "    'sad' : '>',\n",
    "    'happy': '>>>'\n",
    "}\n",
    "words = message.split()\n",
    "output = \"\"\n",
    "for item in words:\n",
    "    output +=emojis.get(item, item) + \" \"\n",
    "print(output)   "
   ]
  },
  {
   "cell_type": "code",
   "execution_count": null,
   "id": "98a9a3f0",
   "metadata": {},
   "outputs": [],
   "source": []
  },
  {
   "cell_type": "code",
   "execution_count": 30,
   "id": "2f1eed60",
   "metadata": {},
   "outputs": [
    {
     "name": "stdout",
     "output_type": "stream",
     "text": [
      "hi sammy, How are you feeling\n"
     ]
    }
   ],
   "source": [
    "def greet_user(name):\n",
    "    print(f'hi {name}, How are you feeling')\n",
    "    \n",
    "    \n",
    "greet_user(\"sammy\")"
   ]
  },
  {
   "cell_type": "markdown",
   "id": "0a16a2e4",
   "metadata": {},
   "source": [
    "For the best practise use mostly positional arguments \n",
    "but when dealing with numerous numerical argument use keyword argument"
   ]
  },
  {
   "cell_type": "code",
   "execution_count": null,
   "id": "6e74cd8c",
   "metadata": {},
   "outputs": [],
   "source": [
    "def greet_user(name):\n",
    "    print(f'hi {name}, How are you feeling')\n",
    "    \n",
    "    \n",
    "greet_user(\"sammy\")#positional argument\n",
    "greet_user(name=\"sammy\")#keyword argument"
   ]
  },
  {
   "cell_type": "markdown",
   "id": "b3cce0ea",
   "metadata": {},
   "source": [
    "Diffrence between return and print \n",
    "return is used mostly in a function so when called it akkows a function to return a value making it both to be returned in bothe the docment and as an output\n",
    "while print returns the value as output"
   ]
  },
  {
   "cell_type": "code",
   "execution_count": 31,
   "id": "fb74a851",
   "metadata": {},
   "outputs": [
    {
     "name": "stdout",
     "output_type": "stream",
     "text": [
      "16\n"
     ]
    }
   ],
   "source": [
    "def square(number):\n",
    "    return number * number\n",
    "print(square(4))"
   ]
  },
  {
   "cell_type": "raw",
   "id": "eb4c303d",
   "metadata": {},
   "source": [
    "using try except for errors encountered"
   ]
  },
  {
   "cell_type": "code",
   "execution_count": 32,
   "id": "d41025b8",
   "metadata": {},
   "outputs": [
    {
     "name": "stdout",
     "output_type": "stream",
     "text": [
      "aged\n",
      "invalid value\n"
     ]
    }
   ],
   "source": [
    "try:\n",
    "    age = int(input(\"ag:   \"))\n",
    "    print(age)\n",
    "except ValueError:\n",
    "    print('invalid value')"
   ]
  },
  {
   "cell_type": "code",
   "execution_count": 39,
   "id": "276b0f0c",
   "metadata": {},
   "outputs": [
    {
     "name": "stdout",
     "output_type": "stream",
     "text": [
      "john smith\n",
      "Hi,i am john smith \n",
      "Hi,i am samson Olusola \n"
     ]
    }
   ],
   "source": [
    "class person:\n",
    "    def __init__(self,name):\n",
    "        self.name = name\n",
    "    def talk(self):\n",
    "        print(f\"Hi,i am {self.name} \")\n",
    "john = person(\"john smith\")\n",
    "print(john.name)\n",
    "john.talk()\n",
    "sammy = person(\"samson Olusola\")\n",
    "sammy.talk()"
   ]
  },
  {
   "cell_type": "markdown",
   "id": "ef995ae5",
   "metadata": {},
   "source": [
    "use pass to move over a class"
   ]
  },
  {
   "cell_type": "code",
   "execution_count": 46,
   "id": "40bf3a7b",
   "metadata": {},
   "outputs": [
    {
     "name": "stdout",
     "output_type": "stream",
     "text": [
      "5665642\n"
     ]
    }
   ],
   "source": [
    "def max_number(numbers):\n",
    "    output = numbers[0]\n",
    "    for number in numbers:\n",
    "        if number > output:\n",
    "            output = number\n",
    "    return output       \n",
    "bot = [4,56,6,7,54,3,353,5665642,2]            \n",
    "print(max_number(bot))\n",
    "\n",
    "              "
   ]
  },
  {
   "cell_type": "raw",
   "id": "bec0bb2c",
   "metadata": {},
   "source": [
    "directories serves as packages in python so to import from directories you use\n",
    "1.import directory.file\n",
    "2.from directory.file import modules"
   ]
  },
  {
   "cell_type": "raw",
   "id": "bf10084e",
   "metadata": {},
   "source": [
    " random\n",
    " random.randint"
   ]
  },
  {
   "cell_type": "code",
   "execution_count": 64,
   "id": "97ff2a45",
   "metadata": {},
   "outputs": [
    {
     "data": {
      "text/plain": [
       "(6, 3)"
      ]
     },
     "execution_count": 64,
     "metadata": {},
     "output_type": "execute_result"
    }
   ],
   "source": [
    "import random\n",
    "class Dice():\n",
    "    def roll(self):\n",
    "        x = random.randint(1,6)\n",
    "        y = random.randint(1,6)\n",
    "        return(x,y)\n",
    "dice = Dice()\n",
    "dice.roll()"
   ]
  },
  {
   "cell_type": "code",
   "execution_count": 69,
   "id": "b73e213e",
   "metadata": {},
   "outputs": [],
   "source": [
    "from pathlib import Path\n",
    "path = Path()\n",
    "for file in path.glob('x.py'):\n",
    "    print (file)"
   ]
  },
  {
   "cell_type": "code",
   "execution_count": 1,
   "id": "4cd91fa6",
   "metadata": {},
   "outputs": [],
   "source": [
    "# import all packages and set plots to be embedded inline\n",
    "import numpy as np\n",
    "import pandas as pd\n",
    "import matplotlib.pyplot as plt\n",
    "import seaborn as sb\n",
    "\n",
    "%matplotlib inline"
   ]
  },
  {
   "cell_type": "code",
   "execution_count": null,
   "id": "832f07a5",
   "metadata": {},
   "outputs": [],
   "source": [
    "df = pd.read_csv"
   ]
  },
  {
   "cell_type": "code",
   "execution_count": null,
   "id": "724f50c8",
   "metadata": {},
   "outputs": [],
   "source": []
  },
  {
   "cell_type": "code",
   "execution_count": null,
   "id": "49652729",
   "metadata": {},
   "outputs": [],
   "source": []
  },
  {
   "cell_type": "code",
   "execution_count": null,
   "id": "f115902d",
   "metadata": {},
   "outputs": [],
   "source": []
  },
  {
   "cell_type": "code",
   "execution_count": null,
   "id": "38cd71bd",
   "metadata": {},
   "outputs": [],
   "source": []
  }
 ],
 "metadata": {
  "kernelspec": {
   "display_name": "Python 3 (ipykernel)",
   "language": "python",
   "name": "python3"
  },
  "language_info": {
   "codemirror_mode": {
    "name": "ipython",
    "version": 3
   },
   "file_extension": ".py",
   "mimetype": "text/x-python",
   "name": "python",
   "nbconvert_exporter": "python",
   "pygments_lexer": "ipython3",
   "version": "3.9.12"
  }
 },
 "nbformat": 4,
 "nbformat_minor": 5
}
